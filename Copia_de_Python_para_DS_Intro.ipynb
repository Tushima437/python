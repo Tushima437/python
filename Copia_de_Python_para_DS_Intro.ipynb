{
  "nbformat": 4,
  "nbformat_minor": 0,
  "metadata": {
    "colab": {
      "provenance": [],
      "toc_visible": true,
      "authorship_tag": "ABX9TyMuxLf8tdoW5pnFpNiXgZYw",
      "include_colab_link": true
    },
    "kernelspec": {
      "name": "python3",
      "display_name": "Python 3"
    },
    "language_info": {
      "name": "python"
    }
  },
  "cells": [
    {
      "cell_type": "markdown",
      "metadata": {
        "id": "view-in-github",
        "colab_type": "text"
      },
      "source": [
        "<a href=\"https://colab.research.google.com/github/Tushima437/python/blob/main/Copia_de_Python_para_DS_Intro.ipynb\" target=\"_parent\"><img src=\"https://colab.research.google.com/assets/colab-badge.svg\" alt=\"Open In Colab\"/></a>"
      ]
    },
    {
      "cell_type": "markdown",
      "source": [
        "#Python para DS - Introduccion"
      ],
      "metadata": {
        "id": "aLD6ERWQQM0e"
      }
    },
    {
      "cell_type": "code",
      "source": [
        "1 + 1"
      ],
      "metadata": {
        "colab": {
          "base_uri": "https://localhost:8080/"
        },
        "id": "rGXgtWX-QXWF",
        "outputId": "f559bcdc-8335-4a1d-d896-3a58737f7f93"
      },
      "execution_count": null,
      "outputs": [
        {
          "output_type": "execute_result",
          "data": {
            "text/plain": [
              "2"
            ]
          },
          "metadata": {},
          "execution_count": 1
        }
      ]
    },
    {
      "cell_type": "code",
      "source": [
        "'Tushima'"
      ],
      "metadata": {
        "colab": {
          "base_uri": "https://localhost:8080/",
          "height": 35
        },
        "id": "htXKsqwXQfSB",
        "outputId": "7e719685-ef9c-45d4-a704-0e6c6e6bb511"
      },
      "execution_count": null,
      "outputs": [
        {
          "output_type": "execute_result",
          "data": {
            "text/plain": [
              "'Tushima'"
            ],
            "application/vnd.google.colaboratory.intrinsic+json": {
              "type": "string"
            }
          },
          "metadata": {},
          "execution_count": 2
        }
      ]
    },
    {
      "cell_type": "code",
      "source": [
        "nombre = 'Tushima'"
      ],
      "metadata": {
        "id": "rf6_ZLnzQugg"
      },
      "execution_count": null,
      "outputs": []
    },
    {
      "cell_type": "code",
      "source": [
        "nombre"
      ],
      "metadata": {
        "colab": {
          "base_uri": "https://localhost:8080/",
          "height": 35
        },
        "id": "E5rLv-uLRHbY",
        "outputId": "6c815e1f-4901-4175-ca18-a06d571f7067"
      },
      "execution_count": null,
      "outputs": [
        {
          "output_type": "execute_result",
          "data": {
            "text/plain": [
              "'Tushima'"
            ],
            "application/vnd.google.colaboratory.intrinsic+json": {
              "type": "string"
            }
          },
          "metadata": {},
          "execution_count": 4
        }
      ]
    },
    {
      "cell_type": "code",
      "source": [
        "edad = 25"
      ],
      "metadata": {
        "id": "EfUMCCxbRJg4"
      },
      "execution_count": null,
      "outputs": []
    },
    {
      "cell_type": "markdown",
      "source": [
        "#Mi primer funcion\n"
      ],
      "metadata": {
        "id": "fpSRh3TCDkfu"
      }
    },
    {
      "cell_type": "code",
      "source": [
        "print(f'El nombre es {nombre} y su edad es {edad} años.')"
      ],
      "metadata": {
        "id": "YPeaTDZ2RQUb",
        "colab": {
          "base_uri": "https://localhost:8080/"
        },
        "outputId": "d47b9c1b-41da-436d-a376-4683e9c3c03b"
      },
      "execution_count": null,
      "outputs": [
        {
          "output_type": "stream",
          "name": "stdout",
          "text": [
            "El nombre es Tushima y su edad es 25 años.\n"
          ]
        }
      ]
    },
    {
      "cell_type": "code",
      "source": [
        "def saludar():\n",
        "  nombre = input('escriba su nombre: ')\n",
        "  print(f'Hola {nombre} sea bienvenido!!!')"
      ],
      "metadata": {
        "id": "D4OOreQ9D4kM"
      },
      "execution_count": null,
      "outputs": []
    },
    {
      "cell_type": "code",
      "source": [
        "saludar()"
      ],
      "metadata": {
        "colab": {
          "base_uri": "https://localhost:8080/"
        },
        "id": "cmzIxHYVOZrM",
        "outputId": "6246c097-e017-4477-c966-fc9cb1cefa5b"
      },
      "execution_count": null,
      "outputs": [
        {
          "output_type": "stream",
          "name": "stdout",
          "text": [
            "escriba su nombre: xd\n",
            "Hola xd sea bienvenido!!!\n"
          ]
        }
      ]
    },
    {
      "cell_type": "markdown",
      "source": [
        "#Parametros"
      ],
      "metadata": {
        "id": "nQRNwA9rd2Ox"
      }
    },
    {
      "cell_type": "code",
      "source": [
        "nombre = 'Tushima'\n",
        "\n",
        "def saludarA_(nombre):\n",
        "  print(f'Hola {nombre} sea bienvenido!!!')"
      ],
      "metadata": {
        "id": "Dom69DrSc-Qg"
      },
      "execution_count": null,
      "outputs": []
    },
    {
      "cell_type": "code",
      "source": [
        "saludarA_(nombre)"
      ],
      "metadata": {
        "colab": {
          "base_uri": "https://localhost:8080/"
        },
        "id": "JXW3IML4dleB",
        "outputId": "e8e2dfe3-636d-48a9-da13-1406d9ea97fc"
      },
      "execution_count": null,
      "outputs": [
        {
          "output_type": "stream",
          "name": "stdout",
          "text": [
            "Hola Tushima sea bienvenido!!!\n"
          ]
        }
      ]
    },
    {
      "cell_type": "markdown",
      "source": [
        "#condicion (if)"
      ],
      "metadata": {
        "id": "9S3HF5r_h7Lf"
      }
    },
    {
      "cell_type": "code",
      "source": [
        "edad = 15\n",
        "\n",
        "def verificar_edad(edad):\n",
        "  if edad >= 18:\n",
        "    print(\"usted es mayor a 18 años\")\n",
        "  else:\n",
        "    print(\"usted es menor a 18 años\")\n",
        "\n",
        "verificar_edad(edad)"
      ],
      "metadata": {
        "colab": {
          "base_uri": "https://localhost:8080/"
        },
        "id": "0EtWix4Bf_LH",
        "outputId": "f7b9641b-e364-4d31-949c-96b520c62317"
      },
      "execution_count": null,
      "outputs": [
        {
          "output_type": "stream",
          "name": "stdout",
          "text": [
            "usted es menor a 18 años\n"
          ]
        }
      ]
    },
    {
      "cell_type": "markdown",
      "source": [
        "#condicionales sin parametros y conversion de tipo de dato"
      ],
      "metadata": {
        "id": "xkf9SUQxhwwv"
      }
    },
    {
      "cell_type": "code",
      "source": [
        "def verificar_edadSinParametro():\n",
        "  edad = input('ingrese su edad ')\n",
        "  edad = int(edad)\n",
        "  if edad >= 18:\n",
        "    print(\"usted es mayor a 18 años\")\n",
        "  else:\n",
        "    print(\"usted es menor a 18 años\")\n",
        "\n",
        "verificar_edadSinParametro()"
      ],
      "metadata": {
        "colab": {
          "base_uri": "https://localhost:8080/"
        },
        "id": "6ELSaVm4hFZY",
        "outputId": "d298c0b1-4ff2-4c8a-93f4-e4aae06a7047"
      },
      "execution_count": null,
      "outputs": [
        {
          "output_type": "stream",
          "name": "stdout",
          "text": [
            "ingrese su edad 20\n",
            "usted es mayor a 18 años\n"
          ]
        }
      ]
    },
    {
      "cell_type": "markdown",
      "source": [
        "#Lista"
      ],
      "metadata": {
        "id": "Uxl2uSAdjHe3"
      }
    },
    {
      "cell_type": "code",
      "source": [
        "edades = [13,14,28,38,40,25,47,98]"
      ],
      "metadata": {
        "id": "es6qodlNjKt-"
      },
      "execution_count": null,
      "outputs": []
    },
    {
      "cell_type": "code",
      "source": [
        "type(edades)"
      ],
      "metadata": {
        "colab": {
          "base_uri": "https://localhost:8080/"
        },
        "id": "D5NaexoVjWVG",
        "outputId": "a3653ae4-2f38-4742-db0d-1885734ad6a2"
      },
      "execution_count": null,
      "outputs": [
        {
          "output_type": "execute_result",
          "data": {
            "text/plain": [
              "list"
            ]
          },
          "metadata": {},
          "execution_count": 18
        }
      ]
    },
    {
      "cell_type": "code",
      "source": [
        "edades[0]"
      ],
      "metadata": {
        "colab": {
          "base_uri": "https://localhost:8080/"
        },
        "id": "VXF5LlO1jYTb",
        "outputId": "2f1a9ed7-1b68-4584-b3c2-17d042287ee7"
      },
      "execution_count": null,
      "outputs": [
        {
          "output_type": "execute_result",
          "data": {
            "text/plain": [
              "13"
            ]
          },
          "metadata": {},
          "execution_count": 19
        }
      ]
    },
    {
      "cell_type": "code",
      "source": [
        "edades[0:4]"
      ],
      "metadata": {
        "colab": {
          "base_uri": "https://localhost:8080/"
        },
        "id": "Nyh7M8bCjs73",
        "outputId": "93bc3088-d269-4af0-9d6b-9266330391d8"
      },
      "execution_count": null,
      "outputs": [
        {
          "output_type": "execute_result",
          "data": {
            "text/plain": [
              "[13, 14, 28, 38]"
            ]
          },
          "metadata": {},
          "execution_count": 20
        }
      ]
    },
    {
      "cell_type": "code",
      "source": [
        "edades[0:8]"
      ],
      "metadata": {
        "colab": {
          "base_uri": "https://localhost:8080/"
        },
        "id": "NdQdPtEAj6Zn",
        "outputId": "452fad13-bd41-482b-98a3-c307090752a6"
      },
      "execution_count": null,
      "outputs": [
        {
          "output_type": "execute_result",
          "data": {
            "text/plain": [
              "[13, 14, 28, 38, 40, 25, 47, 98]"
            ]
          },
          "metadata": {},
          "execution_count": 21
        }
      ]
    },
    {
      "cell_type": "code",
      "source": [
        "edades[:]"
      ],
      "metadata": {
        "colab": {
          "base_uri": "https://localhost:8080/"
        },
        "id": "r9VDkbsgj80_",
        "outputId": "24d43680-0198-4a04-a6dc-28dfc9ceb432"
      },
      "execution_count": null,
      "outputs": [
        {
          "output_type": "execute_result",
          "data": {
            "text/plain": [
              "[13, 14, 28, 38, 40, 25, 47, 98]"
            ]
          },
          "metadata": {},
          "execution_count": 22
        }
      ]
    },
    {
      "cell_type": "code",
      "source": [
        "edades[-1]"
      ],
      "metadata": {
        "colab": {
          "base_uri": "https://localhost:8080/"
        },
        "id": "FnayHQ8PkMxf",
        "outputId": "bcd9992d-0db5-42b9-df35-f357da19cea9"
      },
      "execution_count": null,
      "outputs": [
        {
          "output_type": "execute_result",
          "data": {
            "text/plain": [
              "98"
            ]
          },
          "metadata": {},
          "execution_count": 23
        }
      ]
    },
    {
      "cell_type": "markdown",
      "source": [
        "#bucles"
      ],
      "metadata": {
        "id": "Y1_nZnAZkm33"
      }
    },
    {
      "cell_type": "code",
      "source": [
        "edades = [13,14,28,38,40]\n",
        "\n",
        "def verificar_edad(edad):\n",
        "  if edad >= 18:\n",
        "    print(\"usted es mayor a 18 años\")\n",
        "  else:\n",
        "    print(\"usted es menor a 18 años\")\n",
        "\n",
        "for edad in edades:\n",
        "  verificar_edad(edad)"
      ],
      "metadata": {
        "colab": {
          "base_uri": "https://localhost:8080/"
        },
        "id": "DFrdDjd5k0d_",
        "outputId": "8ae51589-8dc4-468f-c099-1ab6cbc562df"
      },
      "execution_count": null,
      "outputs": [
        {
          "output_type": "stream",
          "name": "stdout",
          "text": [
            "usted es menor a 18 años\n",
            "usted es menor a 18 años\n",
            "usted es mayor a 18 años\n",
            "usted es mayor a 18 años\n",
            "usted es mayor a 18 años\n"
          ]
        }
      ]
    },
    {
      "cell_type": "code",
      "source": [
        "edades = [13,14,28,38,40]\n",
        "\n",
        "def verificar_edad_con_bucle(edades):\n",
        "  for edad in edades:\n",
        "    if edad >= 18:\n",
        "      print(\"usted es mayor a 18 años\")\n",
        "    else:\n",
        "      print(\"usted es menor a 18 años\")\n",
        "\n",
        "verificar_edad_con_bucle(edades)"
      ],
      "metadata": {
        "colab": {
          "base_uri": "https://localhost:8080/"
        },
        "id": "BE7N2KVdlVcP",
        "outputId": "672b53c1-22a4-48fe-efdc-b132accc9650"
      },
      "execution_count": null,
      "outputs": [
        {
          "output_type": "stream",
          "name": "stdout",
          "text": [
            "usted es menor a 18 años\n",
            "usted es menor a 18 años\n",
            "usted es mayor a 18 años\n",
            "usted es mayor a 18 años\n",
            "usted es mayor a 18 años\n"
          ]
        }
      ]
    },
    {
      "cell_type": "code",
      "source": [
        "verificaciones = []\n",
        "edades = [13,15,20]\n",
        "\n",
        "def veri(verificaciones,edades):\n",
        "  for edad in edades:\n",
        "    if edad >= 18:\n",
        "      verificaciones.append(True)\n",
        "    else:\n",
        "      verificaciones.append(False)\n",
        "\n",
        "  for verificacion in verificaciones:\n",
        "    if verificacion == True:\n",
        "      print('joya')\n",
        "    else:\n",
        "      print('joyant')\n",
        "\n",
        "\n",
        "veri(verificaciones,edades)\n"
      ],
      "metadata": {
        "colab": {
          "base_uri": "https://localhost:8080/"
        },
        "id": "uW3rz-Iyydfw",
        "outputId": "40b4abf3-26c2-4bd5-dece-6d4739e78564"
      },
      "execution_count": null,
      "outputs": [
        {
          "output_type": "stream",
          "name": "stdout",
          "text": [
            "joyant\n",
            "joyant\n",
            "joya\n"
          ]
        }
      ]
    },
    {
      "cell_type": "markdown",
      "source": [
        "#Lista con diferentes tipos de dato"
      ],
      "metadata": {
        "id": "Dmjq9DpFiXj6"
      }
    },
    {
      "cell_type": "code",
      "source": [
        "persona = ['mariana', 25, True, 'Argentina']"
      ],
      "metadata": {
        "id": "cN4Sea8GiaCN"
      },
      "execution_count": null,
      "outputs": []
    },
    {
      "cell_type": "code",
      "source": [
        "lista_mixta"
      ],
      "metadata": {
        "colab": {
          "base_uri": "https://localhost:8080/"
        },
        "id": "47a9TUFGi-hE",
        "outputId": "0f3f9d89-dbc4-4107-ac84-1f1f6fc644ae"
      },
      "execution_count": null,
      "outputs": [
        {
          "output_type": "execute_result",
          "data": {
            "text/plain": [
              "['mariana', 25, True, 'Argentina']"
            ]
          },
          "metadata": {},
          "execution_count": 3
        }
      ]
    },
    {
      "cell_type": "code",
      "source": [
        "for elemento in persona:\n",
        "  print(f'el elemento {elemento} de la lista es del tipo', type(elemento))"
      ],
      "metadata": {
        "colab": {
          "base_uri": "https://localhost:8080/"
        },
        "id": "sw8QtGgdjDBB",
        "outputId": "e3a5e225-4595-4f1c-959d-d86d1cb472a5"
      },
      "execution_count": null,
      "outputs": [
        {
          "output_type": "stream",
          "name": "stdout",
          "text": [
            "el elemento mariana de la lista es del tipo <class 'str'>\n",
            "el elemento 25 de la lista es del tipo <class 'int'>\n",
            "el elemento True de la lista es del tipo <class 'bool'>\n",
            "el elemento Argentina de la lista es del tipo <class 'str'>\n"
          ]
        }
      ]
    },
    {
      "cell_type": "code",
      "source": [
        "pi = 3.14\n",
        "type(pi)"
      ],
      "metadata": {
        "colab": {
          "base_uri": "https://localhost:8080/"
        },
        "id": "Be_SDGAEkZ4K",
        "outputId": "61408c35-821e-4f48-f65c-02c8c118d9e6"
      },
      "execution_count": null,
      "outputs": [
        {
          "output_type": "execute_result",
          "data": {
            "text/plain": [
              "float"
            ]
          },
          "metadata": {},
          "execution_count": 13
        }
      ]
    },
    {
      "cell_type": "markdown",
      "source": [
        "#Importando biblioteca\n"
      ],
      "metadata": {
        "id": "ofWApDLUlRwg"
      }
    },
    {
      "cell_type": "code",
      "source": [
        "from random import randrange, seed"
      ],
      "metadata": {
        "id": "Toix-CKmlWMh"
      },
      "execution_count": null,
      "outputs": []
    },
    {
      "cell_type": "code",
      "source": [
        "randrange(0,11)"
      ],
      "metadata": {
        "colab": {
          "base_uri": "https://localhost:8080/"
        },
        "id": "Y1cL2UW4leql",
        "outputId": "1c3f0702-4d85-4f78-d938-c76a82724767"
      },
      "execution_count": null,
      "outputs": [
        {
          "output_type": "execute_result",
          "data": {
            "text/plain": [
              "6"
            ]
          },
          "metadata": {},
          "execution_count": 18
        }
      ]
    },
    {
      "cell_type": "code",
      "source": [
        "notas_matematica =  []"
      ],
      "metadata": {
        "id": "8RaQP97MsF_j"
      },
      "execution_count": null,
      "outputs": []
    },
    {
      "cell_type": "code",
      "source": [
        "notas_matematica.append(randrange(0,10))"
      ],
      "metadata": {
        "id": "-bNpRi7QsJ_T"
      },
      "execution_count": null,
      "outputs": []
    },
    {
      "cell_type": "code",
      "source": [
        "notas_matematica"
      ],
      "metadata": {
        "colab": {
          "base_uri": "https://localhost:8080/"
        },
        "id": "l5zdtLQ6s5ii",
        "outputId": "8df4f425-5ea0-45fb-a36d-9668c70958bd"
      },
      "execution_count": null,
      "outputs": [
        {
          "output_type": "execute_result",
          "data": {
            "text/plain": [
              "[9, 0, 6, 2, 1, 6]"
            ]
          },
          "metadata": {},
          "execution_count": 29
        }
      ]
    },
    {
      "cell_type": "code",
      "source": [
        "len(notas_matematica)"
      ],
      "metadata": {
        "colab": {
          "base_uri": "https://localhost:8080/"
        },
        "id": "t1HMzMcOtFKC",
        "outputId": "f2acc4fc-ba5f-4e94-abc6-65e6e1a3d547"
      },
      "execution_count": null,
      "outputs": [
        {
          "output_type": "execute_result",
          "data": {
            "text/plain": [
              "6"
            ]
          },
          "metadata": {},
          "execution_count": 28
        }
      ]
    },
    {
      "cell_type": "code",
      "source": [
        "notas_matematica =  []\n",
        "for notas in range(6):\n",
        "  notas_matematica.append(randrange(0,10))\n"
      ],
      "metadata": {
        "id": "Vf7DneOBsq4z"
      },
      "execution_count": null,
      "outputs": []
    },
    {
      "cell_type": "code",
      "source": [
        "from random import randrange\n",
        "type(randrange)"
      ],
      "metadata": {
        "colab": {
          "base_uri": "https://localhost:8080/"
        },
        "id": "lCHpax8ktnRa",
        "outputId": "e80155cd-2dde-4503-8744-954f48b80715"
      },
      "execution_count": null,
      "outputs": [
        {
          "output_type": "execute_result",
          "data": {
            "text/plain": [
              "method"
            ]
          },
          "metadata": {},
          "execution_count": 31
        }
      ]
    },
    {
      "cell_type": "markdown",
      "source": [
        "#biblioteca Matplotlib para gráficos"
      ],
      "metadata": {
        "id": "CTr8_PO4v0Qs"
      }
    },
    {
      "cell_type": "code",
      "source": [
        "import matplotlib.pyplot as plt"
      ],
      "metadata": {
        "id": "IjVVIT1rv18D"
      },
      "execution_count": null,
      "outputs": []
    },
    {
      "cell_type": "code",
      "source": [
        "x = list(range(1,7))\n",
        "y = notas_matematica"
      ],
      "metadata": {
        "id": "5U7jH5Z9xT1M"
      },
      "execution_count": null,
      "outputs": []
    },
    {
      "cell_type": "code",
      "source": [
        "plt.plot(x,y, marker = 'o')\n",
        "plt.title('Grafico de las notas')\n",
        "plt.xlabel('Pruebas')\n",
        "plt.ylabel('notas')\n",
        "plt.show()"
      ],
      "metadata": {
        "colab": {
          "base_uri": "https://localhost:8080/",
          "height": 472
        },
        "id": "x_4S-y2IxndI",
        "outputId": "4ee7bceb-ac00-44dd-d333-0b54ef6a9dcd"
      },
      "execution_count": null,
      "outputs": [
        {
          "output_type": "display_data",
          "data": {
            "text/plain": [
              "<Figure size 640x480 with 1 Axes>"
            ],
            "image/png": "[encoded data removed]"
          },
          "metadata": {}
        }
      ]
    },
    {
      "cell_type": "code",
      "source": [
        "import matplotlib.pyplot as plt\n",
        "\n",
        "notas_matematica = ['Matemática',8,7,6,6,7,7,8,10]\n",
        "notas_lenguaje = ['Lenguaje',9,9,9,8,5,6,8,5]\n",
        "notas_geografia = ['Geografía',10,10,6,7,7,7,8,7]\n",
        "\n",
        "notas = [notas_matematica, notas_lenguaje, notas_geografia]"
      ],
      "metadata": {
        "id": "Xw1AhjIFzAQi"
      },
      "execution_count": null,
      "outputs": []
    },
    {
      "cell_type": "code",
      "source": [
        "for nota in notas:\n",
        " x = list(range(1, 9))\n",
        " y = nota[1:]\n",
        " plt.plot(x, y, marker='o')\n",
        " plt.xlabel('Exámenes')\n",
        " plt.ylabel('Notas')\n",
        " plt.show()"
      ],
      "metadata": {
        "colab": {
          "base_uri": "https://localhost:8080/",
          "height": 1000
        },
        "id": "6rNT80r10HRM",
        "outputId": "dfe9cd23-e06f-49ec-8621-e1b3602bf130"
      },
      "execution_count": null,
      "outputs": [
        {
          "output_type": "display_data",
          "data": {
            "text/plain": [
              "<Figure size 640x480 with 1 Axes>"
            ],
            "image/png": "[encoded data removed]"
          },
          "metadata": {}
        },
        {
          "output_type": "display_data",
          "data": {
            "text/plain": [
              "<Figure size 640x480 with 1 Axes>"
            ],
            "image/png": "[encoded data removed]"
          },
          "metadata": {}
        },
        {
          "output_type": "display_data",
          "data": {
            "text/plain": [
              "<Figure size 640x480 with 1 Axes>"
            ],
            "image/png": "[encoded data removed]"
          },
          "metadata": {}
        }
      ]
    }
  ]
}